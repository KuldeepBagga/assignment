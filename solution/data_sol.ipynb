{
 "cells": [
  {
   "cell_type": "code",
   "execution_count": 6,
   "id": "9895f4b5",
   "metadata": {},
   "outputs": [],
   "source": [
    "import pandas as pd\n",
    "import numpy as py\n",
    "import json\n",
    "import os"
   ]
  },
  {
   "cell_type": "code",
   "execution_count": null,
   "id": "e035318e",
   "metadata": {},
   "outputs": [],
   "source": []
  },
  {
   "cell_type": "code",
   "execution_count": 50,
   "id": "958f505f",
   "metadata": {},
   "outputs": [
    {
     "data": {
      "text/plain": [
       "'{\"customer_id\":{\"0\":\"C1\",\"1\":\"C10\",\"2\":\"C15\",\"3\":\"C17\",\"4\":\"C18\",\"5\":\"C23\",\"6\":\"C26\",\"7\":\"C28\",\"8\":\"C32\",\"9\":\"C33\",\"10\":\"C34\",\"11\":\"C44\",\"12\":\"C47\",\"13\":\"C48\",\"14\":\"C49\",\"15\":\"C51\",\"16\":\"C52\",\"17\":\"C53\",\"18\":\"C55\",\"19\":\"C75\",\"20\":\"C79\",\"21\":\"C83\",\"22\":\"C87\",\"23\":\"C96\",\"24\":\"C97\",\"25\":\"C98\",\"26\":\"C111\",\"27\":\"C121\",\"28\":\"C123\",\"29\":\"C135\"},\"basket\":{\"0\":[{\"product_id\":\"P39\",\"price\":1451},{\"product_id\":\"P35\",\"price\":1949}],\"1\":[{\"product_id\":\"P33\",\"price\":761}],\"2\":[{\"product_id\":\"P05\",\"price\":1737},{\"product_id\":\"P05\",\"price\":1470}],\"3\":[{\"product_id\":\"P44\",\"price\":128},{\"product_id\":\"P53\",\"price\":986},{\"product_id\":\"P50\",\"price\":413}],\"4\":[{\"product_id\":\"P38\",\"price\":1960},{\"product_id\":\"P36\",\"price\":1166},{\"product_id\":\"P40\",\"price\":1349}],\"5\":[{\"product_id\":\"P63\",\"price\":1753},{\"product_id\":\"P64\",\"price\":467},{\"product_id\":\"P63\",\"price\":1379}],\"6\":[{\"product_id\":\"P12\",\"price\":1502},{\"product_id\":\"P01\",\"price\":126}],\"7\":[{\"product_id\":\"P02\",\"price\":1313},{\"product_id\":\"P01\",\"price\":1808}],\"8\":[{\"product_id\":\"P33\",\"price\":26},{\"product_id\":\"P24\",\"price\":1394},{\"product_id\":\"P32\",\"price\":1232}],\"9\":[{\"product_id\":\"P16\",\"price\":89},{\"product_id\":\"P20\",\"price\":1932}],\"10\":[{\"product_id\":\"P30\",\"price\":1226}],\"11\":[{\"product_id\":\"P33\",\"price\":1390},{\"product_id\":\"P24\",\"price\":758},{\"product_id\":\"P34\",\"price\":1711}],\"12\":[{\"product_id\":\"P42\",\"price\":610},{\"product_id\":\"P44\",\"price\":855}],\"13\":[{\"product_id\":\"P08\",\"price\":1825},{\"product_id\":\"P06\",\"price\":103},{\"product_id\":\"P04\",\"price\":685}],\"14\":[{\"product_id\":\"P36\",\"price\":636},{\"product_id\":\"P35\",\"price\":503}],\"15\":[{\"product_id\":\"P22\",\"price\":1555},{\"product_id\":\"P30\",\"price\":1968}],\"16\":[{\"product_id\":\"P41\",\"price\":1006},{\"product_id\":\"P46\",\"price\":237}],\"17\":[{\"product_id\":\"P40\",\"price\":1363}],\"18\":[{\"product_id\":\"P35\",\"price\":963}],\"19\":[{\"product_id\":\"P36\",\"price\":1052},{\"product_id\":\"P40\",\"price\":1503}],\"20\":[{\"product_id\":\"P53\",\"price\":314},{\"product_id\":\"P54\",\"price\":1540}],\"21\":[{\"product_id\":\"P08\",\"price\":548},{\"product_id\":\"P04\",\"price\":577}],\"22\":[{\"product_id\":\"P60\",\"price\":674},{\"product_id\":\"P48\",\"price\":873}],\"23\":[{\"product_id\":\"P49\",\"price\":272},{\"product_id\":\"P45\",\"price\":201},{\"product_id\":\"P41\",\"price\":217}],\"24\":[{\"product_id\":\"P09\",\"price\":831}],\"25\":[{\"product_id\":\"P09\",\"price\":784}],\"26\":[{\"product_id\":\"P45\",\"price\":523},{\"product_id\":\"P58\",\"price\":1581}],\"27\":[{\"product_id\":\"P14\",\"price\":1868},{\"product_id\":\"P15\",\"price\":1733}],\"28\":[{\"product_id\":\"P28\",\"price\":957}],\"29\":[{\"product_id\":\"P11\",\"price\":1650},{\"product_id\":\"P04\",\"price\":1103}]},\"date_of_purchase\":{\"0\":\"2018-12-01 04:43:00\",\"1\":\"2018-12-01 02:56:00\",\"2\":\"2018-12-01 14:29:00\",\"3\":\"2018-12-01 08:07:00\",\"4\":\"2018-12-01 03:47:00\",\"5\":\"2018-12-01 11:17:00\",\"6\":\"2018-12-01 20:07:00\",\"7\":\"2018-12-01 11:24:00\",\"8\":\"2018-12-01 16:39:00\",\"9\":\"2018-12-01 05:45:00\",\"10\":\"2018-12-01 03:26:00\",\"11\":\"2018-12-01 21:54:00\",\"12\":\"2018-12-01 16:41:00\",\"13\":\"2018-12-01 04:45:00\",\"14\":\"2018-12-01 23:04:00\",\"15\":\"2018-12-01 09:38:00\",\"16\":\"2018-12-01 20:06:00\",\"17\":\"2018-12-01 20:51:00\",\"18\":\"2018-12-01 17:24:00\",\"19\":\"2018-12-01 17:20:00\",\"20\":\"2018-12-01 15:05:00\",\"21\":\"2018-12-01 08:43:00\",\"22\":\"2018-12-01 18:16:00\",\"23\":\"2018-12-01 07:35:00\",\"24\":\"2018-12-01 09:21:00\",\"25\":\"2018-12-01 10:56:00\",\"26\":\"2018-12-01 13:36:00\",\"27\":\"2018-12-01 23:09:00\",\"28\":\"2018-12-01 20:18:00\",\"29\":\"2018-12-01 15:09:00\"}}'"
      ]
     },
     "execution_count": 50,
     "metadata": {},
     "output_type": "execute_result"
    }
   ],
   "source": [
    "Jdata=pd.read_json('../input_data/starter/transactions/d=2018-12-01/transactions.json', lines=True)\n",
    "dd=Jdata.to_json()\n",
    "dd"
   ]
  },
  {
   "cell_type": "code",
   "execution_count": 8,
   "id": "c95a4253",
   "metadata": {},
   "outputs": [],
   "source": [
    "#file_path = \"sample.json\"\n",
    "#with open(file_path, 'r') as j:\n",
    "     #contents = json.loads(j.read())\n",
    "     #print(contents)"
   ]
  },
  {
   "cell_type": "code",
   "execution_count": 9,
   "id": "2391bce6",
   "metadata": {},
   "outputs": [
    {
     "name": "stdout",
     "output_type": "stream",
     "text": [
      "{'customer_id': {'0': 'C1', '1': 'C10', '2': 'C15', '3': 'C17', '4': 'C18', '5': 'C23', '6': 'C26', '7': 'C28', '8': 'C32', '9': 'C33', '10': 'C34', '11': 'C44', '12': 'C47', '13': 'C48', '14': 'C49', '15': 'C51', '16': 'C52', '17': 'C53', '18': 'C55', '19': 'C75', '20': 'C79', '21': 'C83', '22': 'C87', '23': 'C96', '24': 'C97', '25': 'C98', '26': 'C111', '27': 'C121', '28': 'C123', '29': 'C135'}, 'basket': {'0': [{'product_id': 'P39', 'price': 1451}, {'product_id': 'P35', 'price': 1949}], '1': [{'product_id': 'P33', 'price': 761}], '2': [{'product_id': 'P05', 'price': 1737}, {'product_id': 'P05', 'price': 1470}], '3': [{'product_id': 'P44', 'price': 128}, {'product_id': 'P53', 'price': 986}, {'product_id': 'P50', 'price': 413}], '4': [{'product_id': 'P38', 'price': 1960}, {'product_id': 'P36', 'price': 1166}, {'product_id': 'P40', 'price': 1349}], '5': [{'product_id': 'P63', 'price': 1753}, {'product_id': 'P64', 'price': 467}, {'product_id': 'P63', 'price': 1379}], '6': [{'product_id': 'P12', 'price': 1502}, {'product_id': 'P01', 'price': 126}], '7': [{'product_id': 'P02', 'price': 1313}, {'product_id': 'P01', 'price': 1808}], '8': [{'product_id': 'P33', 'price': 26}, {'product_id': 'P24', 'price': 1394}, {'product_id': 'P32', 'price': 1232}], '9': [{'product_id': 'P16', 'price': 89}, {'product_id': 'P20', 'price': 1932}], '10': [{'product_id': 'P30', 'price': 1226}], '11': [{'product_id': 'P33', 'price': 1390}, {'product_id': 'P24', 'price': 758}, {'product_id': 'P34', 'price': 1711}], '12': [{'product_id': 'P42', 'price': 610}, {'product_id': 'P44', 'price': 855}], '13': [{'product_id': 'P08', 'price': 1825}, {'product_id': 'P06', 'price': 103}, {'product_id': 'P04', 'price': 685}], '14': [{'product_id': 'P36', 'price': 636}, {'product_id': 'P35', 'price': 503}], '15': [{'product_id': 'P22', 'price': 1555}, {'product_id': 'P30', 'price': 1968}], '16': [{'product_id': 'P41', 'price': 1006}, {'product_id': 'P46', 'price': 237}], '17': [{'product_id': 'P40', 'price': 1363}], '18': [{'product_id': 'P35', 'price': 963}], '19': [{'product_id': 'P36', 'price': 1052}, {'product_id': 'P40', 'price': 1503}], '20': [{'product_id': 'P53', 'price': 314}, {'product_id': 'P54', 'price': 1540}], '21': [{'product_id': 'P08', 'price': 548}, {'product_id': 'P04', 'price': 577}], '22': [{'product_id': 'P60', 'price': 674}, {'product_id': 'P48', 'price': 873}], '23': [{'product_id': 'P49', 'price': 272}, {'product_id': 'P45', 'price': 201}, {'product_id': 'P41', 'price': 217}], '24': [{'product_id': 'P09', 'price': 831}], '25': [{'product_id': 'P09', 'price': 784}], '26': [{'product_id': 'P45', 'price': 523}, {'product_id': 'P58', 'price': 1581}], '27': [{'product_id': 'P14', 'price': 1868}, {'product_id': 'P15', 'price': 1733}], '28': [{'product_id': 'P28', 'price': 957}], '29': [{'product_id': 'P11', 'price': 1650}, {'product_id': 'P04', 'price': 1103}]}, 'date_of_purchase': {'0': '2018-12-01 04:43:00', '1': '2018-12-01 02:56:00', '2': '2018-12-01 14:29:00', '3': '2018-12-01 08:07:00', '4': '2018-12-01 03:47:00', '5': '2018-12-01 11:17:00', '6': '2018-12-01 20:07:00', '7': '2018-12-01 11:24:00', '8': '2018-12-01 16:39:00', '9': '2018-12-01 05:45:00', '10': '2018-12-01 03:26:00', '11': '2018-12-01 21:54:00', '12': '2018-12-01 16:41:00', '13': '2018-12-01 04:45:00', '14': '2018-12-01 23:04:00', '15': '2018-12-01 09:38:00', '16': '2018-12-01 20:06:00', '17': '2018-12-01 20:51:00', '18': '2018-12-01 17:24:00', '19': '2018-12-01 17:20:00', '20': '2018-12-01 15:05:00', '21': '2018-12-01 08:43:00', '22': '2018-12-01 18:16:00', '23': '2018-12-01 07:35:00', '24': '2018-12-01 09:21:00', '25': '2018-12-01 10:56:00', '26': '2018-12-01 13:36:00', '27': '2018-12-01 23:09:00', '28': '2018-12-01 20:18:00', '29': '2018-12-01 15:09:00'}}\n"
     ]
    }
   ],
   "source": [
    "m=json.loads(dd)\n",
    "print(m)"
   ]
  },
  {
   "cell_type": "code",
   "execution_count": 10,
   "id": "3b71dc7d",
   "metadata": {},
   "outputs": [
    {
     "name": "stdout",
     "output_type": "stream",
     "text": [
      "['C1']\n",
      "['C10']\n",
      "['C15']\n",
      "['C17']\n",
      "['C18']\n",
      "['C23']\n",
      "['C26']\n",
      "['C28']\n",
      "['C32']\n",
      "['C33']\n",
      "['C34']\n",
      "['C44']\n",
      "['C47']\n",
      "['C48']\n",
      "['C49']\n",
      "['C51']\n",
      "['C52']\n",
      "['C53']\n",
      "['C55']\n",
      "['C75']\n",
      "['C79']\n",
      "['C83']\n",
      "['C87']\n",
      "['C96']\n",
      "['C97']\n",
      "['C98']\n",
      "['C111']\n",
      "['C121']\n",
      "['C123']\n",
      "['C135']\n"
     ]
    }
   ],
   "source": [
    "customer_id=m['customer_id']\n",
    "\n",
    "for kk in customer_id:\n",
    "\n",
    "    print(customer_id[kk].split())"
   ]
  },
  {
   "cell_type": "code",
   "execution_count": 11,
   "id": "ec3e152c",
   "metadata": {},
   "outputs": [
    {
     "name": "stdout",
     "output_type": "stream",
     "text": [
      "['P39']\n",
      "['P35']\n",
      "['P33']\n",
      "['P05']\n",
      "['P05']\n",
      "['P44']\n",
      "['P53']\n",
      "['P50']\n",
      "['P38']\n",
      "['P36']\n",
      "['P40']\n",
      "['P63']\n",
      "['P64']\n",
      "['P63']\n",
      "['P12']\n",
      "['P01']\n",
      "['P02']\n",
      "['P01']\n",
      "['P33']\n",
      "['P24']\n",
      "['P32']\n",
      "['P16']\n",
      "['P20']\n",
      "['P30']\n",
      "['P33']\n",
      "['P24']\n",
      "['P34']\n",
      "['P42']\n",
      "['P44']\n",
      "['P08']\n",
      "['P06']\n",
      "['P04']\n",
      "['P36']\n",
      "['P35']\n",
      "['P22']\n",
      "['P30']\n",
      "['P41']\n",
      "['P46']\n",
      "['P40']\n",
      "['P35']\n",
      "['P36']\n",
      "['P40']\n",
      "['P53']\n",
      "['P54']\n",
      "['P08']\n",
      "['P04']\n",
      "['P60']\n",
      "['P48']\n",
      "['P49']\n",
      "['P45']\n",
      "['P41']\n",
      "['P09']\n",
      "['P09']\n",
      "['P45']\n",
      "['P58']\n",
      "['P14']\n",
      "['P15']\n",
      "['P28']\n",
      "['P11']\n",
      "['P04']\n"
     ]
    }
   ],
   "source": [
    "Basket=m['basket']\n",
    "for i in Basket:\n",
    "    Basket[i]\n",
    "    for s in Basket[i]:\n",
    "        product_id=s['product_id']\n",
    "        print(product_id.split())"
   ]
  },
  {
   "cell_type": "code",
   "execution_count": 12,
   "id": "9025d481",
   "metadata": {},
   "outputs": [],
   "source": [
    "customer_data=pd.read_csv(\"../input_data/starter/customers.csv\")\n"
   ]
  },
  {
   "cell_type": "code",
   "execution_count": 13,
   "id": "753d07b2",
   "metadata": {},
   "outputs": [
    {
     "name": "stdout",
     "output_type": "stream",
     "text": [
      "[[ 7]\n",
      " [ 4]\n",
      " [ 8]\n",
      " [ 5]\n",
      " [ 7]\n",
      " [10]\n",
      " [ 3]\n",
      " [ 7]\n",
      " [ 8]\n",
      " [ 5]\n",
      " [ 4]\n",
      " [ 8]\n",
      " [ 8]\n",
      " [ 3]\n",
      " [ 6]\n",
      " [ 5]\n",
      " [ 2]\n",
      " [ 8]\n",
      " [ 6]\n",
      " [ 2]\n",
      " [ 5]\n",
      " [ 1]\n",
      " [10]\n",
      " [ 6]\n",
      " [ 9]\n",
      " [ 1]\n",
      " [10]\n",
      " [ 3]\n",
      " [ 7]\n",
      " [ 4]\n",
      " [ 9]\n",
      " [ 3]\n",
      " [ 5]\n",
      " [ 3]\n",
      " [ 7]\n",
      " [ 5]\n",
      " [ 9]\n",
      " [ 7]\n",
      " [ 2]\n",
      " [ 4]\n",
      " [ 9]\n",
      " [ 2]\n",
      " [10]\n",
      " [ 9]\n",
      " [10]\n",
      " [ 5]\n",
      " [ 2]\n",
      " [ 4]\n",
      " [ 7]\n",
      " [ 8]\n",
      " [ 3]\n",
      " [ 1]\n",
      " [ 4]\n",
      " [ 2]\n",
      " [ 8]\n",
      " [ 4]\n",
      " [ 2]\n",
      " [ 6]\n",
      " [ 6]\n",
      " [10]\n",
      " [ 4]\n",
      " [ 6]\n",
      " [ 2]\n",
      " [10]\n",
      " [ 2]\n",
      " [10]\n",
      " [ 4]\n",
      " [ 8]\n",
      " [ 7]\n",
      " [ 9]\n",
      " [ 8]\n",
      " [ 5]\n",
      " [ 2]\n",
      " [ 5]\n",
      " [ 8]\n",
      " [10]\n",
      " [ 9]\n",
      " [ 9]\n",
      " [ 1]\n",
      " [ 9]\n",
      " [ 7]\n",
      " [ 9]\n",
      " [ 8]\n",
      " [ 1]\n",
      " [ 8]\n",
      " [ 8]\n",
      " [ 3]\n",
      " [ 1]\n",
      " [ 8]\n",
      " [ 3]\n",
      " [ 3]\n",
      " [ 1]\n",
      " [ 5]\n",
      " [10]\n",
      " [ 7]\n",
      " [10]\n",
      " [ 9]\n",
      " [ 7]\n",
      " [ 9]\n",
      " [ 8]\n",
      " [ 2]\n",
      " [ 1]\n",
      " [ 7]\n",
      " [ 7]\n",
      " [ 8]\n",
      " [ 5]\n",
      " [ 3]\n",
      " [ 8]\n",
      " [ 6]\n",
      " [ 3]\n",
      " [ 1]\n",
      " [ 3]\n",
      " [ 5]\n",
      " [ 3]\n",
      " [ 1]\n",
      " [ 5]\n",
      " [10]\n",
      " [ 7]\n",
      " [ 7]\n",
      " [ 9]\n",
      " [10]\n",
      " [10]\n",
      " [ 3]\n",
      " [ 7]\n",
      " [ 1]\n",
      " [ 4]\n",
      " [ 4]\n",
      " [ 5]\n",
      " [ 7]\n",
      " [ 7]\n",
      " [ 4]\n",
      " [ 7]\n",
      " [ 3]\n",
      " [ 6]\n",
      " [ 2]\n",
      " [10]\n",
      " [ 9]]\n"
     ]
    }
   ],
   "source": [
    "loyalty_score=customer_data.iloc[:,1:2].values\n",
    "print(loyalty_score)"
   ]
  },
  {
   "cell_type": "code",
   "execution_count": 14,
   "id": "a2617bdf",
   "metadata": {},
   "outputs": [],
   "source": [
    "products_data=pd.read_csv(\"../input_data/starter/products.csv\")"
   ]
  },
  {
   "cell_type": "code",
   "execution_count": 15,
   "id": "bd62cb97",
   "metadata": {},
   "outputs": [],
   "source": [
    "productcat=products_data.iloc[:,2:3].values"
   ]
  },
  {
   "cell_type": "code",
   "execution_count": 16,
   "id": "e1d06a4e",
   "metadata": {},
   "outputs": [
    {
     "data": {
      "text/plain": [
       "array([['house'],\n",
       "       ['house'],\n",
       "       ['house'],\n",
       "       ['house'],\n",
       "       ['house'],\n",
       "       ['house'],\n",
       "       ['house'],\n",
       "       ['house'],\n",
       "       ['house'],\n",
       "       ['house'],\n",
       "       ['house'],\n",
       "       ['house'],\n",
       "       ['clothes'],\n",
       "       ['clothes'],\n",
       "       ['clothes'],\n",
       "       ['clothes'],\n",
       "       ['clothes'],\n",
       "       ['clothes'],\n",
       "       ['clothes'],\n",
       "       ['clothes'],\n",
       "       ['clothes'],\n",
       "       ['fruit_veg'],\n",
       "       ['fruit_veg'],\n",
       "       ['fruit_veg'],\n",
       "       ['fruit_veg'],\n",
       "       ['fruit_veg'],\n",
       "       ['fruit_veg'],\n",
       "       ['fruit_veg'],\n",
       "       ['fruit_veg'],\n",
       "       ['fruit_veg'],\n",
       "       ['fruit_veg'],\n",
       "       ['fruit_veg'],\n",
       "       ['fruit_veg'],\n",
       "       ['fruit_veg'],\n",
       "       ['sweets'],\n",
       "       ['sweets'],\n",
       "       ['sweets'],\n",
       "       ['sweets'],\n",
       "       ['sweets'],\n",
       "       ['sweets'],\n",
       "       ['food'],\n",
       "       ['food'],\n",
       "       ['food'],\n",
       "       ['food'],\n",
       "       ['food'],\n",
       "       ['food'],\n",
       "       ['food'],\n",
       "       ['food'],\n",
       "       ['food'],\n",
       "       ['food'],\n",
       "       ['food'],\n",
       "       ['food'],\n",
       "       ['food'],\n",
       "       ['food'],\n",
       "       ['food'],\n",
       "       ['food'],\n",
       "       ['food'],\n",
       "       ['food'],\n",
       "       ['food'],\n",
       "       ['food'],\n",
       "       ['bws'],\n",
       "       ['bws'],\n",
       "       ['bws'],\n",
       "       ['bws']], dtype=object)"
      ]
     },
     "execution_count": 16,
     "metadata": {},
     "output_type": "execute_result"
    }
   ],
   "source": [
    "productcat"
   ]
  },
  {
   "cell_type": "code",
   "execution_count": 17,
   "id": "bd419d29",
   "metadata": {},
   "outputs": [],
   "source": [
    "def customeridfunc():\n",
    "    for kk in customer_id:\n",
    "        return customer_id[kk].split()"
   ]
  },
  {
   "cell_type": "code",
   "execution_count": 18,
   "id": "076c8f83",
   "metadata": {},
   "outputs": [],
   "source": [
    "def basket():\n",
    "    for i in Basket:\n",
    "        Basket[i]\n",
    "        for s in Basket[i]:\n",
    "            product_id=s['product_id']\n",
    "            return product_id.split()"
   ]
  },
  {
   "cell_type": "code",
   "execution_count": 19,
   "id": "be064a01",
   "metadata": {},
   "outputs": [],
   "source": [
    "def loyalty():\n",
    "    loyalty_score=customer_data.iloc[:,1:2].values\n",
    "    return loyalty_score"
   ]
  },
  {
   "cell_type": "code",
   "execution_count": null,
   "id": "1ac700bb",
   "metadata": {},
   "outputs": [],
   "source": [
    "\n",
    "    "
   ]
  },
  {
   "cell_type": "code",
   "execution_count": null,
   "id": "9f904dc7",
   "metadata": {},
   "outputs": [],
   "source": []
  },
  {
   "cell_type": "code",
   "execution_count": null,
   "id": "7afc5991",
   "metadata": {},
   "outputs": [],
   "source": []
  },
  {
   "cell_type": "code",
   "execution_count": null,
   "id": "f9cf4dfa",
   "metadata": {},
   "outputs": [],
   "source": []
  },
  {
   "cell_type": "code",
   "execution_count": null,
   "id": "ba1be366",
   "metadata": {},
   "outputs": [],
   "source": []
  }
 ],
 "metadata": {
  "kernelspec": {
   "display_name": "Python 3 (ipykernel)",
   "language": "python",
   "name": "python3"
  },
  "language_info": {
   "codemirror_mode": {
    "name": "ipython",
    "version": 3
   },
   "file_extension": ".py",
   "mimetype": "text/x-python",
   "name": "python",
   "nbconvert_exporter": "python",
   "pygments_lexer": "ipython3",
   "version": "3.9.7"
  }
 },
 "nbformat": 4,
 "nbformat_minor": 5
}
